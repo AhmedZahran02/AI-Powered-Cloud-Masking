{
 "cells": [
  {
   "cell_type": "code",
   "execution_count": 8,
   "id": "c0700e9a",
   "metadata": {},
   "outputs": [],
   "source": [
    "import sys\n",
    "import os\n",
    "sys.path.append(os.path.abspath(\"../src\"))\n",
    "sys.path.append(os.path.abspath(\"../\"))"
   ]
  },
  {
   "cell_type": "code",
   "execution_count": 9,
   "id": "4663f81c",
   "metadata": {},
   "outputs": [],
   "source": [
    "from pathlib import Path\n",
    "import torch\n",
    "import numpy as np\n",
    "from src.models.unet import UNet\n",
    "from src.models.slim_unet import SlimUNet\n",
    "from src.visualization import plot_image_and_mask_and_prediction\n",
    "from src.utils import load_and_normalize_tiff,load_mask\n",
    "from skimage.transform import resize\n",
    "from tqdm import tqdm \n",
    "import warnings\n",
    "\n",
    "# Set matplotlib to display inline\n",
    "warnings.filterwarnings(\"ignore\")"
   ]
  },
  {
   "cell_type": "code",
   "execution_count": 10,
   "id": "4e710062",
   "metadata": {},
   "outputs": [],
   "source": [
    "DEVICE = torch.device(\"cuda\" if torch.cuda.is_available() else \"cpu\")\n",
    "IMG_SIZE = 512"
   ]
  },
  {
   "cell_type": "code",
   "execution_count": 11,
   "id": "e5b3394f",
   "metadata": {},
   "outputs": [],
   "source": [
    "def load_model(model_path):\n",
    "    model = UNet(n_channels=4, n_classes=1).to(DEVICE)\n",
    "    model.load_state_dict(torch.load(model_path, map_location=DEVICE, weights_only=True))\n",
    "    model.eval()\n",
    "    return model"
   ]
  },
  {
   "cell_type": "code",
   "execution_count": 12,
   "id": "c92aaf3b",
   "metadata": {},
   "outputs": [],
   "source": [
    "def predict(model, image_tensor, threshold):\n",
    "    \"\"\"Make prediction for a single image tensor\"\"\"\n",
    "    with torch.no_grad():\n",
    "        image_tensor = image_tensor.unsqueeze(0).to(DEVICE)\n",
    "        output = model(image_tensor)\n",
    "        prob = torch.sigmoid(output).squeeze().cpu().numpy()\n",
    "        mask = (prob > threshold).astype(np.uint8)\n",
    "    return mask"
   ]
  },
  {
   "cell_type": "code",
   "execution_count": 13,
   "id": "92d93356",
   "metadata": {},
   "outputs": [],
   "source": [
    "def main(data_folder,mask_folder, model_path, threshold=0.5):\n",
    "    data_folder = Path(data_folder)\n",
    "    mask_folder = Path(mask_folder)\n",
    "    model = load_model(model_path)\n",
    "\n",
    "    for image_file in tqdm(sorted(data_folder.glob(\"*.tif\")), desc=\"Processing Images\", unit=\"image\"):\n",
    "        try:\n",
    "            # Load and preprocess image\n",
    "            image = load_and_normalize_tiff(image_file)\n",
    "            true_mask = load_mask(mask_folder / image_file.name)\n",
    "\n",
    "            # Validate input shape\n",
    "            if image.shape[0] != 4:\n",
    "                raise ValueError(f\"Image must have 4 channels (RGB + IR), found {image.shape[0]} channels.\")\n",
    "\n",
    "            # Resize if needed\n",
    "            if image.shape[1] != IMG_SIZE or image.shape[2] != IMG_SIZE:\n",
    "                image = resize(image.transpose(1, 2, 0), (IMG_SIZE, IMG_SIZE), \n",
    "                          order=1, mode='reflect', preserve_range=True)\n",
    "                image = image.transpose(2, 0, 1)\n",
    "\n",
    "            # Normalize each band\n",
    "            for i in range(image.shape[0]):\n",
    "                band = image[i]\n",
    "                if band.max() > band.min():\n",
    "                    image[i] = (band - band.min()) / (band.max() - band.min())\n",
    "                else:\n",
    "                    image[i] = 0\n",
    "\n",
    "            # Convert to tensor and predict\n",
    "            image_tensor = torch.tensor(image).float()  # (C, H, W)\n",
    "            mask = predict(model, image_tensor, threshold)\n",
    "            \n",
    "            # Post-process prediction\n",
    "            mask_resized = resize(mask, (512, 512), order=0, mode='reflect', preserve_range=True)\n",
    "            mask_resized = (mask_resized > 0.5).astype(np.uint8) \n",
    "\n",
    "            plot_image_and_mask_and_prediction(image, true_mask, mask_resized, title=image_file.stem,visualize=True)\n",
    "\n",
    "        except Exception as e:\n",
    "            print(f\"Error processing {image_file.name}: {str(e)}\")\n",
    "            continue"
   ]
  },
  {
   "cell_type": "code",
   "execution_count": 14,
   "id": "48f3b0db",
   "metadata": {},
   "outputs": [
    {
     "name": "stderr",
     "output_type": "stream",
     "text": [
      "Processing Images: 100%|██████████| 120/120 [02:03<00:00,  1.03s/image]\n"
     ]
    }
   ],
   "source": [
    "main(\n",
    "    data_folder=\"test/data\",\n",
    "    mask_folder=\"test/masks\",\n",
    "    model_path=\"../outputs/models/Unet_model.pth\",\n",
    "    threshold=0.35\n",
    ")"
   ]
  }
 ],
 "metadata": {
  "kernelspec": {
   "display_name": "Python 3",
   "language": "python",
   "name": "python3"
  },
  "language_info": {
   "codemirror_mode": {
    "name": "ipython",
    "version": 3
   },
   "file_extension": ".py",
   "mimetype": "text/x-python",
   "name": "python",
   "nbconvert_exporter": "python",
   "pygments_lexer": "ipython3",
   "version": "3.12.6"
  }
 },
 "nbformat": 4,
 "nbformat_minor": 5
}
