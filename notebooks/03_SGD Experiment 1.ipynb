{
 "cells": [
  {
   "cell_type": "code",
   "execution_count": null,
   "id": "84e695bb",
   "metadata": {},
   "outputs": [],
   "source": [
    "import sys\n",
    "import os\n",
    "sys.path.append(os.path.abspath(\"../src\"))\n",
    "sys.path.append(os.path.abspath(\"../\"))"
   ]
  },
  {
   "cell_type": "code",
   "execution_count": null,
   "id": "15f88e72",
   "metadata": {},
   "outputs": [],
   "source": [
    "import os\n",
    "import numpy as np\n",
    "from sklearn.linear_model import SGDClassifier\n",
    "from sklearn.model_selection import train_test_split\n",
    "from tqdm import tqdm\n",
    "import matplotlib.pyplot as plt\n",
    "import pickle\n",
    "from skimage import color\n",
    "from utils import load_and_normalize_tiff, load_mask\n",
    "from visualization import plot_image_and_mask_and_prediction\n",
    "from pathlib import Path"
   ]
  },
  {
   "cell_type": "code",
   "execution_count": null,
   "id": "9fe32847",
   "metadata": {},
   "outputs": [],
   "source": [
    "def extract_features(img):\n",
    "    R = img[0].astype(np.float32)\n",
    "    G = img[1].astype(np.float32)\n",
    "    B = img[2].astype(np.float32)\n",
    "    IR = img[3].astype(np.float32)\n",
    "\n",
    "    # Raw bands\n",
    "    features = [R, G, B, IR]\n",
    "\n",
    "    # spectral bands\n",
    "    ndvi = (IR - R) / (IR + R + 1e-5)\n",
    "    ndsi = (G - IR) / (G + IR + 1e-5)\n",
    "    features.append(ndvi)\n",
    "    features.append(ndsi)\n",
    "\n",
    "    # Pixel value\n",
    "    brightness = (R + G + B) / 3.0\n",
    "    rgb_norm = np.stack([R, G, B], axis=-1) / 255.0\n",
    "    hsv = color.rgb2hsv(rgb_norm.clip(0, 1))\n",
    "    saturation = hsv[:, :, 1]\n",
    "    \n",
    "    features.append(brightness)\n",
    "    features.append(saturation)\n",
    "\n",
    "    features = np.stack(features, axis=-1)\n",
    "    return features\n",
    "\n",
    "def dice_coefficient(mask1, mask2):\n",
    "    intersection = np.sum(mask1 * mask2)\n",
    "    return (2.0 * intersection + 1e-9) / (np.sum(mask1) + np.sum(mask2) + 1e-9)"
   ]
  },
  {
   "cell_type": "code",
   "execution_count": null,
   "id": "164e694f",
   "metadata": {},
   "outputs": [],
   "source": [
    "image_files = []\n",
    "mask_files = []\n",
    "\n",
    "PROCESSED_DATA = Path(\"../data/processed2\")\n",
    "for category in ['cloud_free', 'partially_clouded', 'fully_clouded']:\n",
    "    img_dir = PROCESSED_DATA / \"data\" / category\n",
    "    mask_dir = PROCESSED_DATA / \"masks\" / category\n",
    "    \n",
    "    for img_file in img_dir.glob('*.tif'):\n",
    "        mask_path = mask_dir / img_file.name\n",
    "        if mask_path.exists():\n",
    "            image_files.append(img_file)\n",
    "            mask_files.append(mask_path)\n",
    "\n",
    "# Shuffle and split\n",
    "combined = list(zip(image_files, mask_files))\n",
    "np.random.seed(42)\n",
    "np.random.shuffle(combined)\n",
    "image_files, mask_files = zip(*combined)\n",
    "\n",
    "train_imgs, test_imgs, train_masks, test_masks = train_test_split(image_files, mask_files, test_size=0.2, random_state=42)\n",
    "\n",
    "print(f\"Train: {len(train_imgs)} images, Test: {len(test_imgs)} images\")"
   ]
  },
  {
   "cell_type": "code",
   "execution_count": null,
   "id": "9d4b58ff",
   "metadata": {},
   "outputs": [],
   "source": [
    "sgd_model = SGDClassifier(loss='log_loss', max_iter=1, learning_rate='optimal', tol=None, random_state=42)\n",
    "classes = np.array([0, 1])"
   ]
  },
  {
   "cell_type": "code",
   "execution_count": null,
   "id": "d13c497b",
   "metadata": {},
   "outputs": [],
   "source": [
    "def evaluate(model, img_list, mask_list):\n",
    "    scores = []\n",
    "    \n",
    "    for img_path, mask_path in tqdm(zip(img_list, mask_list), total=len(img_list), desc=f\"Evaluation\"):\n",
    "        img = load_and_normalize_tiff(img_path)\n",
    "        mask = load_mask(mask_path)\n",
    "\n",
    "        features = extract_features(img)\n",
    "        features = features.reshape(-1, features.shape[-1])\n",
    "        mask = mask.reshape(-1)\n",
    "\n",
    "        preds = model.predict(features)\n",
    "\n",
    "        score = dice_coefficient(preds, mask)\n",
    "        scores.append(score)\n",
    "\n",
    "    avg_score = np.mean(scores)\n",
    "    print(f\"Average Dice Score: {avg_score:.4f}\")\n",
    "    return avg_score"
   ]
  },
  {
   "cell_type": "code",
   "execution_count": null,
   "id": "e47c4c7c",
   "metadata": {},
   "outputs": [],
   "source": [
    "def predict_full_image(model, img_path, mask_path):\n",
    "    img = load_and_normalize_tiff(img_path)\n",
    "    mask = load_mask(mask_path)\n",
    "\n",
    "    features = extract_features(img)\n",
    "    features = features.reshape(-1, features.shape[-1])\n",
    "\n",
    "    preds = model.predict(features)\n",
    "    preds = preds.reshape((512, 512)) \n",
    "\n",
    "    plot_image_and_mask_and_prediction(img,mask,preds,img_path)"
   ]
  },
  {
   "cell_type": "code",
   "execution_count": null,
   "id": "734bb099",
   "metadata": {},
   "outputs": [],
   "source": [
    "for idx, (img_path, mask_path) in enumerate(tqdm(zip(train_imgs, train_masks), total=len(train_imgs), desc=\"Training\")):\n",
    "    \n",
    "    img = load_and_normalize_tiff(img_path)\n",
    "    mask = load_mask(mask_path)\n",
    "    features = extract_features(img)\n",
    "\n",
    "    features = features.reshape(-1, features.shape[-1])\n",
    "    mask = mask.reshape(-1)\n",
    "\n",
    "    if idx == 0:\n",
    "        sgd_model.partial_fit(features, mask, classes=classes)\n",
    "    else:\n",
    "        sgd_model.partial_fit(features, mask)"
   ]
  },
  {
   "cell_type": "code",
   "execution_count": null,
   "id": "3ab19024",
   "metadata": {},
   "outputs": [],
   "source": [
    "with open('../outputs/temp/sgd_model.pkl', 'wb') as f:\n",
    "    pickle.dump(sgd_model, f)"
   ]
  },
  {
   "cell_type": "code",
   "execution_count": null,
   "id": "76b8a1c0",
   "metadata": {},
   "outputs": [],
   "source": [
    "model = None\n",
    "with open('../outputs/temp/sgd_model.pkl', 'rb') as f:\n",
    "    model = pickle.load(f)"
   ]
  },
  {
   "cell_type": "code",
   "execution_count": null,
   "id": "36543752",
   "metadata": {},
   "outputs": [],
   "source": [
    "evaluate(model, test_imgs, test_masks)"
   ]
  },
  {
   "cell_type": "code",
   "execution_count": null,
   "id": "6cfa38f7",
   "metadata": {},
   "outputs": [],
   "source": [
    "input_dir = 'test'\n",
    "data_files = [f for f in os.listdir(input_dir + '/data')]\n",
    "# plot first 30 images\n",
    "for f in data_files[0:30]:\n",
    "    predict_full_image(model, input_dir + '/data/' + f, input_dir + '/masks/' + f)"
   ]
  }
 ],
 "metadata": {
  "kernelspec": {
   "display_name": "Python 3",
   "language": "python",
   "name": "python3"
  },
  "language_info": {
   "codemirror_mode": {
    "name": "ipython",
    "version": 3
   },
   "file_extension": ".py",
   "mimetype": "text/x-python",
   "name": "python",
   "nbconvert_exporter": "python",
   "pygments_lexer": "ipython3",
   "version": "3.12.6"
  }
 },
 "nbformat": 4,
 "nbformat_minor": 5
}
