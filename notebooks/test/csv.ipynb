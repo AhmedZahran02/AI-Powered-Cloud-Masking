{
 "cells": [
  {
   "cell_type": "code",
   "execution_count": 1,
   "id": "f7992ff9",
   "metadata": {},
   "outputs": [],
   "source": [
    "import sys\n",
    "import os\n",
    "sys.path.append(os.path.abspath(\"../src\"))\n",
    "sys.path.append(os.path.abspath(\"../\"))"
   ]
  },
  {
   "cell_type": "code",
   "execution_count": 2,
   "id": "efa2f05a",
   "metadata": {},
   "outputs": [],
   "source": [
    "from pathlib import Path\n",
    "import pandas as pd\n",
    "from skimage.transform import resize"
   ]
  },
  {
   "cell_type": "code",
   "execution_count": 3,
   "id": "020c94e1",
   "metadata": {},
   "outputs": [],
   "source": [
    "import rasterio # type: ignore\n",
    "\n",
    "def load_mask(mask_path):\n",
    "    with rasterio.open(mask_path) as src:\n",
    "        if src.count > 1:\n",
    "            print(f\"Warning: Mask {mask_path} has multiple bands ({src.count}). Using only the first band.\")\n",
    "        mask = src.read(1)  # Single-channel mask\n",
    "    return mask"
   ]
  },
  {
   "cell_type": "code",
   "execution_count": 4,
   "id": "90edc1c2",
   "metadata": {},
   "outputs": [
    {
     "name": "stdout",
     "output_type": "stream",
     "text": [
      "Random mask:\n",
      "[[0 1]\n",
      " [1 1]\n",
      " [0 1]\n",
      " [0 1]\n",
      " [1 1]\n",
      " [0 1]\n",
      " [1 0]\n",
      " [0 0]\n",
      " [0 0]]\n",
      "\n",
      "RLE-encoded string:\n",
      "1 1 4 1 6 1 9 6\n"
     ]
    }
   ],
   "source": [
    "import numpy as np\n",
    "\n",
    "def rle_encode(mask):\n",
    "    \"\"\"\n",
    "    Encodes a binary mask using Run-Length Encoding (RLE).\n",
    "    \n",
    "    Args:\n",
    "        mask (np.ndarray): 2D binary mask (0s and 1s).\n",
    "    \n",
    "    Returns:\n",
    "        str: RLE-encoded string.\n",
    "    \"\"\"\n",
    "    pixels = mask.flatten(order='F')  # Flatten in column-major order\n",
    "    pixels = np.concatenate([[0], pixels, [0]])  # Add padding to detect transitions\n",
    "    runs = np.where(pixels[1:] != pixels[:-1])[0] + 1  # Get transition indices\n",
    "    runs[1::2] -= runs[::2]  # Compute run lengths\n",
    "    runs[::2] -= 1  # Make it 0-indexed instead of 1-indexed\n",
    "\n",
    "    return \" \".join(map(str, runs))  # Convert to string format\n",
    "\n",
    "def rle_decode(mask_rle, shape):\n",
    "    \"\"\"\n",
    "    Decodes an RLE-encoded string into a binary mask.\n",
    "    \n",
    "    Args:\n",
    "        mask_rle (str): RLE-encoded string.\n",
    "        shape (tuple): (height, width) of the output mask.\n",
    "    \n",
    "    Returns:\n",
    "        np.ndarray: Decoded binary mask.\n",
    "    \"\"\"\n",
    "    if not mask_rle:\n",
    "        return np.zeros(shape, dtype=np.uint8)\n",
    "\n",
    "    s = list(map(int, mask_rle.split()))\n",
    "    starts, lengths = s[0::2], s[1::2]  # Separate start positions and lengths\n",
    "\n",
    "    mask = np.zeros(shape[0] * shape[1], dtype=np.uint8)  # Create a flat mask\n",
    "    for start, length in zip(starts, lengths):\n",
    "        mask[start:start + length] = 1  # Fill mask with 1s\n",
    "\n",
    "    return mask.reshape(shape, order='F')  # Reshape in column-major order\n",
    "\n",
    "\n",
    "def generate_random_mask(shape, probability=0.5):\n",
    "    \"\"\"\n",
    "    Generates a random binary mask.\n",
    "\n",
    "    Args:\n",
    "        shape (tuple): (height, width) of the mask.\n",
    "        probability (float): Probability of a pixel being 1 (default is 0.5).\n",
    "\n",
    "    Returns:\n",
    "        np.ndarray: Random binary mask.\n",
    "    \"\"\"\n",
    "    return (np.random.rand(*shape) < probability).astype(np.uint8)\n",
    "\n",
    "\n",
    "if __name__ == \"__main__\":\n",
    "    mask_shape = (9, 2)\n",
    "    random_mask = generate_random_mask(mask_shape, probability=0.5)\n",
    "\n",
    "    print(\"Random mask:\")\n",
    "    print(random_mask)\n",
    "\n",
    "    rle_string = rle_encode(random_mask)\n",
    "    print(\"\\nRLE-encoded string:\")\n",
    "    print(rle_string)\n",
    "    decoded_mask = rle_decode(rle_string, mask_shape)\n",
    "    assert np.all(decoded_mask == random_mask), \"Decoding is not the inverse of encoding!\""
   ]
  },
  {
   "cell_type": "code",
   "execution_count": 5,
   "id": "ec28869e",
   "metadata": {},
   "outputs": [
    {
     "name": "stdout",
     "output_type": "stream",
     "text": [
      "Saved submission to solution.csv\n"
     ]
    }
   ],
   "source": [
    "submissions = []\n",
    "masks_dir = Path('masks')\n",
    "output_csv = 'solution.csv'\n",
    "\n",
    "for mask_file in masks_dir.glob('*.tif'):\n",
    "    mask = load_mask(mask_file)\n",
    "    mask = (mask > 0).astype(np.uint8)\n",
    "    \n",
    "    rle = rle_encode(mask)\n",
    "    \n",
    "    submissions.append({\n",
    "        \"id\": mask_file.stem,\n",
    "        \"segmentation\": rle\n",
    "    })\n",
    "\n",
    "# Save all to CSV\n",
    "df = pd.DataFrame(submissions)\n",
    "df.to_csv(output_csv, index=False)\n",
    "print(f\"Saved submission to {output_csv}\")"
   ]
  }
 ],
 "metadata": {
  "kernelspec": {
   "display_name": "Python 3",
   "language": "python",
   "name": "python3"
  },
  "language_info": {
   "codemirror_mode": {
    "name": "ipython",
    "version": 3
   },
   "file_extension": ".py",
   "mimetype": "text/x-python",
   "name": "python",
   "nbconvert_exporter": "python",
   "pygments_lexer": "ipython3",
   "version": "3.12.6"
  }
 },
 "nbformat": 4,
 "nbformat_minor": 5
}
